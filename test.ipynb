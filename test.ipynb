{
 "cells": [
  {
   "cell_type": "code",
   "execution_count": 1,
   "metadata": {},
   "outputs": [
    {
     "ename": "ImportError",
     "evalue": "cannot import name 'NDArray' from partially initialized module 'nklearn.backend_ndarray.ndarray' (most likely due to a circular import) (/mnt/c/Users/brc/Desktop/nnkit-learn/nklearn/backend_ndarray/ndarray.py)",
     "output_type": "error",
     "traceback": [
      "\u001b[0;31m---------------------------------------------------------------------------\u001b[0m",
      "\u001b[0;31mImportError\u001b[0m                               Traceback (most recent call last)",
      "Cell \u001b[0;32mIn[1], line 1\u001b[0m\n\u001b[0;32m----> 1\u001b[0m \u001b[39mimport\u001b[39;00m \u001b[39mnklearn\u001b[39;00m \u001b[39mas\u001b[39;00m \u001b[39mnk\u001b[39;00m\n\u001b[1;32m      2\u001b[0m \u001b[39mimport\u001b[39;00m \u001b[39mnumpy\u001b[39;00m \u001b[39mas\u001b[39;00m \u001b[39mnp\u001b[39;00m\n",
      "File \u001b[0;32m/mnt/c/Users/brc/Desktop/nnkit-learn/nklearn/__init__.py:1\u001b[0m\n\u001b[0;32m----> 1\u001b[0m \u001b[39mfrom\u001b[39;00m \u001b[39m.\u001b[39;00m\u001b[39mbackend_ndarray\u001b[39;00m \u001b[39mimport\u001b[39;00m \u001b[39m*\u001b[39m\n",
      "File \u001b[0;32m/mnt/c/Users/brc/Desktop/nnkit-learn/nklearn/backend_ndarray/__init__.py:1\u001b[0m\n\u001b[0;32m----> 1\u001b[0m \u001b[39mfrom\u001b[39;00m \u001b[39m.\u001b[39;00m\u001b[39mndarray\u001b[39;00m \u001b[39mimport\u001b[39;00m NDArray, array, empty, full, broadcast_to \n\u001b[1;32m      2\u001b[0m \u001b[39mfrom\u001b[39;00m \u001b[39m.\u001b[39;00m\u001b[39m_device\u001b[39;00m \u001b[39mimport\u001b[39;00m cpu, default_device\n",
      "File \u001b[0;32m/mnt/c/Users/brc/Desktop/nnkit-learn/nklearn/backend_ndarray/ndarray.py:5\u001b[0m\n\u001b[1;32m      2\u001b[0m \u001b[39mimport\u001b[39;00m \u001b[39mnumbers\u001b[39;00m\n\u001b[1;32m      3\u001b[0m \u001b[39mfrom\u001b[39;00m \u001b[39mtyping\u001b[39;00m \u001b[39mimport\u001b[39;00m List\n\u001b[0;32m----> 5\u001b[0m \u001b[39mfrom\u001b[39;00m \u001b[39m.\u001b[39;00m\u001b[39m_device\u001b[39;00m \u001b[39mimport\u001b[39;00m default_device\n\u001b[1;32m      6\u001b[0m \u001b[39mfrom\u001b[39;00m \u001b[39m.\u001b[39;00m\u001b[39m_dtype\u001b[39;00m \u001b[39mimport\u001b[39;00m dtypes, default_dtype\n\u001b[1;32m      9\u001b[0m \u001b[39mdef\u001b[39;00m \u001b[39mis_numeric_list\u001b[39m(lst: List) \u001b[39m-\u001b[39m\u001b[39m>\u001b[39m \u001b[39mbool\u001b[39m:\n",
      "File \u001b[0;32m/mnt/c/Users/brc/Desktop/nnkit-learn/nklearn/backend_ndarray/_device.py:2\u001b[0m\n\u001b[1;32m      1\u001b[0m \u001b[39mfrom\u001b[39;00m \u001b[39m.\u001b[39;00m \u001b[39mimport\u001b[39;00m ndarray_backend_cpu\n\u001b[0;32m----> 2\u001b[0m \u001b[39mfrom\u001b[39;00m \u001b[39m.\u001b[39;00m\u001b[39mndarray\u001b[39;00m \u001b[39mimport\u001b[39;00m NDArray\n\u001b[1;32m      3\u001b[0m \u001b[39mfrom\u001b[39;00m \u001b[39m.\u001b[39;00m\u001b[39m_dtype\u001b[39;00m \u001b[39mimport\u001b[39;00m default_dtype\n\u001b[1;32m      4\u001b[0m \u001b[39mfrom\u001b[39;00m \u001b[39m.\u001b[39;00m\u001b[39m_random\u001b[39;00m \u001b[39mimport\u001b[39;00m random_array\n",
      "\u001b[0;31mImportError\u001b[0m: cannot import name 'NDArray' from partially initialized module 'nklearn.backend_ndarray.ndarray' (most likely due to a circular import) (/mnt/c/Users/brc/Desktop/nnkit-learn/nklearn/backend_ndarray/ndarray.py)"
     ]
    }
   ],
   "source": [
    "import nklearn as nk\n",
    "import numpy as np"
   ]
  },
  {
   "cell_type": "code",
   "execution_count": 2,
   "metadata": {},
   "outputs": [
    {
     "ename": "NameError",
     "evalue": "name 'NDArray' is not defined",
     "output_type": "error",
     "traceback": [
      "\u001b[0;31m---------------------------------------------------------------------------\u001b[0m",
      "\u001b[0;31mNameError\u001b[0m                                 Traceback (most recent call last)",
      "Cell \u001b[0;32mIn[2], line 1\u001b[0m\n\u001b[0;32m----> 1\u001b[0m nk\u001b[39m.\u001b[39;49mempty((\u001b[39m2\u001b[39;49m,\u001b[39m3\u001b[39;49m))\n",
      "File \u001b[0;32m/mnt/c/Users/brc/Desktop/nnkit-learn/nklearn/backend_ndarray/ndarray.py:659\u001b[0m, in \u001b[0;36mempty\u001b[0;34m(shape, dtype, device)\u001b[0m\n\u001b[1;32m    657\u001b[0m device \u001b[39m=\u001b[39m device \u001b[39mif\u001b[39;00m device \u001b[39mis\u001b[39;00m \u001b[39mnot\u001b[39;00m \u001b[39mNone\u001b[39;00m \u001b[39melse\u001b[39;00m default_device()\n\u001b[1;32m    658\u001b[0m dtype \u001b[39m=\u001b[39m dtype \u001b[39mif\u001b[39;00m dtype \u001b[39mis\u001b[39;00m \u001b[39mNone\u001b[39;00m \u001b[39melse\u001b[39;00m default_dtype()\n\u001b[0;32m--> 659\u001b[0m \u001b[39mreturn\u001b[39;00m device\u001b[39m.\u001b[39;49mempty(shape, dtype)\n",
      "File \u001b[0;32m/mnt/c/Users/brc/Desktop/nnkit-learn/nklearn/backend_ndarray/_device.py:25\u001b[0m, in \u001b[0;36mBackendDevice.empty\u001b[0;34m(self, shape, dtype)\u001b[0m\n\u001b[1;32m     23\u001b[0m \u001b[39mdef\u001b[39;00m \u001b[39mempty\u001b[39m(\u001b[39mself\u001b[39m, shape, dtype\u001b[39m=\u001b[39m\u001b[39mNone\u001b[39;00m):\n\u001b[1;32m     24\u001b[0m     dtype \u001b[39m=\u001b[39m default_dtype() \u001b[39mif\u001b[39;00m dtype \u001b[39mis\u001b[39;00m \u001b[39mNone\u001b[39;00m \u001b[39melse\u001b[39;00m dtype\n\u001b[0;32m---> 25\u001b[0m     \u001b[39mreturn\u001b[39;00m NDArray\u001b[39m.\u001b[39mmake(shape, device\u001b[39m=\u001b[39m\u001b[39mself\u001b[39m, dtype\u001b[39m=\u001b[39mdtype)\n",
      "\u001b[0;31mNameError\u001b[0m: name 'NDArray' is not defined"
     ]
    }
   ],
   "source": [
    "nk.empty((2,3))"
   ]
  },
  {
   "cell_type": "code",
   "execution_count": 2,
   "metadata": {},
   "outputs": [
    {
     "data": {
      "text/plain": [
       "NDArray([3. 4.], device=cpu(), dtype=float64)"
      ]
     },
     "execution_count": 2,
     "metadata": {},
     "output_type": "execute_result"
    }
   ],
   "source": [
    "nk.ndarray.NDArray([3,4])"
   ]
  },
  {
   "cell_type": "code",
   "execution_count": 4,
   "metadata": {},
   "outputs": [
    {
     "ename": "NameError",
     "evalue": "name 'NDArray' is not defined",
     "output_type": "error",
     "traceback": [
      "\u001b[0;31m---------------------------------------------------------------------------\u001b[0m",
      "\u001b[0;31mNameError\u001b[0m                                 Traceback (most recent call last)",
      "Cell \u001b[0;32mIn[4], line 2\u001b[0m\n\u001b[1;32m      1\u001b[0m device \u001b[39m=\u001b[39m nk\u001b[39m.\u001b[39mcpu()\n\u001b[0;32m----> 2\u001b[0m device\u001b[39m.\u001b[39;49mrandn(\u001b[39m3\u001b[39;49m, \u001b[39m4\u001b[39;49m, \u001b[39m\"\u001b[39;49m\u001b[39mfloat32\u001b[39;49m\u001b[39m\"\u001b[39;49m)\n",
      "File \u001b[0;32m/mnt/c/Users/brc/Desktop/nnkit-learn/nklearn/backend_ndarray/_device.py:37\u001b[0m, in \u001b[0;36mBackendDevice.randn\u001b[0;34m(self, dtype, *shape)\u001b[0m\n\u001b[1;32m     33\u001b[0m \u001b[39mdef\u001b[39;00m \u001b[39mrandn\u001b[39m(\u001b[39mself\u001b[39m, \u001b[39m*\u001b[39mshape, dtype\u001b[39m=\u001b[39m\u001b[39m\"\u001b[39m\u001b[39mfloat32\u001b[39m\u001b[39m\"\u001b[39m):\n\u001b[1;32m     34\u001b[0m     \u001b[39m# note: numpy doesn't support types within standard random routines, and\u001b[39;00m\n\u001b[1;32m     35\u001b[0m     \u001b[39m# .astype(\"float32\") does work if we're generating a singleton\u001b[39;00m\n\u001b[0;32m---> 37\u001b[0m     \u001b[39mreturn\u001b[39;00m NDArray(random_array(\u001b[39m*\u001b[39mshape, \n\u001b[1;32m     38\u001b[0m                                 distribution\u001b[39m=\u001b[39m\u001b[39m\"\u001b[39m\u001b[39mnormalvariate\u001b[39m\u001b[39m\"\u001b[39m,\n\u001b[1;32m     39\u001b[0m                                 params\u001b[39m=\u001b[39m(\u001b[39m0\u001b[39m, \u001b[39m1\u001b[39m),\n\u001b[1;32m     40\u001b[0m                                 dtype\u001b[39m=\u001b[39m\u001b[39m\"\u001b[39m\u001b[39mfloat\u001b[39m\u001b[39m\"\u001b[39m), device\u001b[39m=\u001b[39m\u001b[39mself\u001b[39m)\n",
      "\u001b[0;31mNameError\u001b[0m: name 'NDArray' is not defined"
     ]
    }
   ],
   "source": [
    "device = nk.cpu()\n",
    "device.randn(3, 4, \"float32\")"
   ]
  }
 ],
 "metadata": {
  "kernelspec": {
   "display_name": "dlsys",
   "language": "python",
   "name": "python3"
  },
  "language_info": {
   "codemirror_mode": {
    "name": "ipython",
    "version": 3
   },
   "file_extension": ".py",
   "mimetype": "text/x-python",
   "name": "python",
   "nbconvert_exporter": "python",
   "pygments_lexer": "ipython3",
   "version": "3.8.16"
  },
  "orig_nbformat": 4
 },
 "nbformat": 4,
 "nbformat_minor": 2
}
